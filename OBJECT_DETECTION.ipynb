{
  "nbformat": 4,
  "nbformat_minor": 0,
  "metadata": {
    "colab": {
      "provenance": [],
      "authorship_tag": "ABX9TyMdXgCSPv8wRQnVw1F+C/cH",
      "include_colab_link": true
    },
    "kernelspec": {
      "name": "python3",
      "display_name": "Python 3"
    },
    "language_info": {
      "name": "python"
    }
  },
  "cells": [
    {
      "cell_type": "markdown",
      "metadata": {
        "id": "view-in-github",
        "colab_type": "text"
      },
      "source": [
        "<a href=\"https://colab.research.google.com/github/PHANI-27/ML-PROJECTS/blob/main/OBJECT_DETECTION.ipynb\" target=\"_parent\"><img src=\"https://colab.research.google.com/assets/colab-badge.svg\" alt=\"Open In Colab\"/></a>"
      ]
    },
    {
      "cell_type": "code",
      "execution_count": null,
      "metadata": {
        "id": "1V-QFjVbxhs2"
      },
      "outputs": [],
      "source": [
        "pip install gradio"
      ]
    },
    {
      "cell_type": "code",
      "source": [
        "#object detection\n",
        "import gradio as gr\n",
        "from transformers import AutoImageProcessor, AutoModelForObjectDetection\n",
        "import torch\n",
        "from PIL import Image\n",
        "import torchvision.transforms as T\n",
        "\n",
        "# Load model and processor\n",
        "processor = AutoImageProcessor.from_pretrained(\"microsoft/table-transformer-detection\")\n",
        "model = AutoModelForObjectDetection.from_pretrained(\"microsoft/table-transformer-detection\")\n",
        "\n",
        "# Helper function to draw bounding boxes\n",
        "def draw_boxes(image, boxes, labels, scores, threshold=0.8):\n",
        "    import matplotlib.pyplot as plt\n",
        "    import matplotlib.patches as patches\n",
        "    from io import BytesIO\n",
        "\n",
        "    fig, ax = plt.subplots(1)\n",
        "    ax.imshow(image)\n",
        "\n",
        "    for box, label, score in zip(boxes, labels, scores):\n",
        "        if score > threshold:\n",
        "            x, y, w, h = box\n",
        "            rect = patches.Rectangle((x, y), w, h, linewidth=2, edgecolor='red', facecolor='none')\n",
        "            ax.add_patch(rect)\n",
        "            ax.text(x, y, f\"{label}: {score:.2f}\", color=\"white\", fontsize=8, bbox=dict(facecolor='red', alpha=0.5))\n",
        "\n",
        "    buf = BytesIO()\n",
        "    plt.axis('off')\n",
        "    plt.savefig(buf, format='png')\n",
        "    buf.seek(0)\n",
        "    return Image.open(buf)\n",
        "\n",
        "# Prediction function\n",
        "def detect_tables(image):\n",
        "    inputs = processor(images=image, return_tensors=\"pt\")\n",
        "    with torch.no_grad():\n",
        "        outputs = model(**inputs)\n",
        "\n",
        "    # Process results\n",
        "    target_sizes = torch.tensor([image.size[::-1]])\n",
        "    results = processor.post_process_object_detection(outputs, target_sizes=target_sizes, threshold=0.8)[0]\n",
        "\n",
        "    boxes = results[\"boxes\"].tolist()\n",
        "    labels = [model.config.id2label[label_id] for label_id in results[\"labels\"]]\n",
        "    scores = results[\"scores\"].tolist()\n",
        "\n",
        "    result_image = draw_boxes(image, boxes, labels, scores)\n",
        "    return result_image\n",
        "\n",
        "# Gradio interface\n",
        "gr.Interface(\n",
        "    fn=detect_tables,\n",
        "    inputs=gr.Image(type=\"pil\"),\n",
        "    outputs=\"image\",\n",
        "    title=\"Table Detection with Microsoft Table Transformer\",\n",
        "    description=\"Upload an image to detect tables using the Microsoft Table Transformer model.\"\n",
        ").launch()\n"
      ],
      "metadata": {
        "id": "ixQcnzG0xpke"
      },
      "execution_count": null,
      "outputs": []
    }
  ]
}