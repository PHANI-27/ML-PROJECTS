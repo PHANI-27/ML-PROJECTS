{
  "nbformat": 4,
  "nbformat_minor": 0,
  "metadata": {
    "colab": {
      "provenance": [],
      "authorship_tag": "ABX9TyMOa0JiQtK8eyvCp2Wz4bQj",
      "include_colab_link": true
    },
    "kernelspec": {
      "name": "python3",
      "display_name": "Python 3"
    },
    "language_info": {
      "name": "python"
    }
  },
  "cells": [
    {
      "cell_type": "markdown",
      "metadata": {
        "id": "view-in-github",
        "colab_type": "text"
      },
      "source": [
        "<a href=\"https://colab.research.google.com/github/PHANI-27/ML-PROJECTS/blob/main/Semantic_Segmentation.ipynb\" target=\"_parent\"><img src=\"https://colab.research.google.com/assets/colab-badge.svg\" alt=\"Open In Colab\"/></a>"
      ]
    },
    {
      "cell_type": "code",
      "execution_count": null,
      "metadata": {
        "id": "B2VQ7EJEy2oP"
      },
      "outputs": [],
      "source": [
        "pip install gradio"
      ]
    },
    {
      "cell_type": "code",
      "source": [
        "import gradio as gr\n",
        "from transformers import AutoImageProcessor, Mask2FormerForUniversalSegmentation\n",
        "import torch\n",
        "from PIL import Image\n",
        "import numpy as np\n",
        "\n",
        "# Load processor and model\n",
        "processor = AutoImageProcessor.from_pretrained(\"facebook/mask2former-swin-large-ade-semantic\")\n",
        "model = Mask2FormerForUniversalSegmentation.from_pretrained(\"facebook/mask2former-swin-large-ade-semantic\")\n",
        "\n",
        "# Create a color palette\n",
        "def create_color_palette(num_classes):\n",
        "    np.random.seed(42)\n",
        "    return {i: tuple(np.random.randint(0, 256, 3)) for i in range(num_classes)}\n",
        "\n",
        "palette = create_color_palette(model.config.num_labels)\n",
        "\n",
        "# Convert mask to color image\n",
        "def segmentation_to_color(mask):\n",
        "    h, w = mask.shape\n",
        "    color_mask = np.zeros((h, w, 3), dtype=np.uint8)\n",
        "    for label_id, color in palette.items():\n",
        "        color_mask[mask == label_id] = color\n",
        "    return Image.fromarray(color_mask)\n",
        "\n",
        "# Segmentation function\n",
        "def segment_image(image):\n",
        "    inputs = processor(images=image, return_tensors=\"pt\")\n",
        "    with torch.no_grad():\n",
        "        outputs = model(**inputs)\n",
        "\n",
        "    # Get segmentation logits and get the most likely class for each pixel\n",
        "    logits = outputs.logits  # [1, num_classes, H, W]\n",
        "    predicted = torch.argmax(logits, dim=1)[0].cpu().numpy()  # [H, W]\n",
        "\n",
        "    color_seg = segmentation_to_color(predicted)\n",
        "    return color_seg\n",
        "\n",
        "# Gradio interface\n",
        "gr.Interface(\n",
        "    fn=segment_image,\n",
        "    inputs=gr.Image(type=\"pil\"),\n",
        "    outputs=gr.Image(type=\"pil\"),\n",
        "    title=\"Semantic Segmentation with Mask2Former (ADE20K)\",\n",
        "    description=\"Upload an image to segment it using Facebook's Mask2Former model trained on ADE20K dataset.\"\n",
        ").launch()\n"
      ],
      "metadata": {
        "id": "ciH-CqbmzDms"
      },
      "execution_count": null,
      "outputs": []
    }
  ]
}