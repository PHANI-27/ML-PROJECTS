{
  "nbformat": 4,
  "nbformat_minor": 0,
  "metadata": {
    "colab": {
      "provenance": [],
      "authorship_tag": "ABX9TyN8jlzh780bDDaL6tHZ7LAG",
      "include_colab_link": true
    },
    "kernelspec": {
      "name": "python3",
      "display_name": "Python 3"
    },
    "language_info": {
      "name": "python"
    }
  },
  "cells": [
    {
      "cell_type": "markdown",
      "metadata": {
        "id": "view-in-github",
        "colab_type": "text"
      },
      "source": [
        "<a href=\"https://colab.research.google.com/github/PHANI-27/ML-PROJECTS/blob/main/LANGUAGE_TRANSLATOR.ipynb\" target=\"_parent\"><img src=\"https://colab.research.google.com/assets/colab-badge.svg\" alt=\"Open In Colab\"/></a>"
      ]
    },
    {
      "cell_type": "code",
      "execution_count": null,
      "metadata": {
        "id": "9ZKe37uO0Bvi"
      },
      "outputs": [],
      "source": [
        "pip install gradio"
      ]
    },
    {
      "cell_type": "code",
      "source": [
        "from transformers import AutoTokenizer, AutoModelForSeq2SeqLM\n",
        "import gradio as gr\n",
        "\n",
        "# Load T5 model and tokenizer\n",
        "tokenizer = AutoTokenizer.from_pretrained(\"google-t5/t5-base\")\n",
        "model = AutoModelForSeq2SeqLM.from_pretrained(\"google-t5/t5-base\")\n",
        "\n",
        "# Language mapping for task prompts\n",
        "language_pairs = {\n",
        "    \"English to French\": \"translate English to French: \",\n",
        "    \"French to English\": \"translate French to English: \",\n",
        "    \"English to German\": \"translate English to German: \",\n",
        "    \"German to English\": \"translate German to English: \"\n",
        "}\n",
        "\n",
        "# Translation function\n",
        "def translate_text(text, lang_pair):\n",
        "    prompt = language_pairs.get(lang_pair, \"\") + text\n",
        "    inputs = tokenizer(prompt, return_tensors=\"pt\", padding=True)\n",
        "    output = model.generate(**inputs, max_length=100)\n",
        "    translated = tokenizer.decode(output[0], skip_special_tokens=True)\n",
        "    return translated\n",
        "\n",
        "# Gradio interface\n",
        "iface = gr.Interface(\n",
        "    fn=translate_text,\n",
        "    inputs=[\n",
        "        gr.Textbox(lines=3, label=\"Input Text\"),\n",
        "        gr.Dropdown(choices=list(language_pairs.keys()), label=\"Translation Direction\")\n",
        "    ],\n",
        "    outputs=gr.Textbox(label=\"Translated Text\"),\n",
        "    title=\"T5 Language Translator\",\n",
        "    description=\"Translate between English, French, and German using Google's T5 model.\"\n",
        ")\n",
        "\n",
        "# Launch the app\n",
        "iface.launch()\n"
      ],
      "metadata": {
        "id": "ZVpkHr6a0DZq"
      },
      "execution_count": null,
      "outputs": []
    }
  ]
}