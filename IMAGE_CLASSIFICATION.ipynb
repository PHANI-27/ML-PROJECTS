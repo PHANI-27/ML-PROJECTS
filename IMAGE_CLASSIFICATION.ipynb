{
  "nbformat": 4,
  "nbformat_minor": 0,
  "metadata": {
    "colab": {
      "provenance": [],
      "authorship_tag": "ABX9TyN1i9GlPUYaWs+zjAI/yK9N",
      "include_colab_link": true
    },
    "kernelspec": {
      "name": "python3",
      "display_name": "Python 3"
    },
    "language_info": {
      "name": "python"
    }
  },
  "cells": [
    {
      "cell_type": "markdown",
      "metadata": {
        "id": "view-in-github",
        "colab_type": "text"
      },
      "source": [
        "<a href=\"https://colab.research.google.com/github/PHANI-27/ML-PROJECTS/blob/main/IMAGE_CLASSIFICATION.ipynb\" target=\"_parent\"><img src=\"https://colab.research.google.com/assets/colab-badge.svg\" alt=\"Open In Colab\"/></a>"
      ]
    },
    {
      "cell_type": "code",
      "source": [
        "pip install gradio"
      ],
      "metadata": {
        "id": "ht5RrDDLwaxy"
      },
      "execution_count": null,
      "outputs": []
    },
    {
      "cell_type": "code",
      "source": [
        "import gradio as gr\n",
        "from transformers import AutoImageProcessor, AutoModelForImageClassification\n",
        "import torch\n",
        "from PIL import Image\n",
        "\n",
        "# Load the pre-trained processor and model\n",
        "processor = AutoImageProcessor.from_pretrained(\"microsoft/resnet-50\")\n",
        "model = AutoModelForImageClassification.from_pretrained(\"microsoft/resnet-50\")\n",
        "\n",
        "# Define a function for image classification\n",
        "def classify_image(image: Image.Image):\n",
        "    # Preprocess the image using the processor\n",
        "    inputs = processor(images=image, return_tensors=\"pt\")\n",
        "\n",
        "    # Perform inference (classification)\n",
        "    with torch.no_grad():\n",
        "        outputs = model(**inputs)\n",
        "\n",
        "    # Get the predicted class label\n",
        "    logits = outputs.logits\n",
        "    predicted_class_idx = torch.argmax(logits, dim=-1).item()\n",
        "\n",
        "    # You may want to map the predicted index to a human-readable label\n",
        "    # You can load the class labels manually or use a predefined mapping\n",
        "    labels = model.config.id2label\n",
        "    predicted_class_label = labels[predicted_class_idx]\n",
        "\n",
        "    return predicted_class_label\n",
        "\n",
        "# Set up the Gradio interface\n",
        "iface = gr.Interface(\n",
        "    fn=classify_image,\n",
        "    inputs=gr.Image(type=\"pil\"),\n",
        "    outputs=gr.Textbox(label=\"Predicted Class\"),\n",
        "    live=True\n",
        ")\n",
        "\n",
        "# Launch the app\n",
        "iface.launch()\n"
      ],
      "metadata": {
        "id": "vuzQqPL1wyWx"
      },
      "execution_count": null,
      "outputs": []
    }
  ]
}